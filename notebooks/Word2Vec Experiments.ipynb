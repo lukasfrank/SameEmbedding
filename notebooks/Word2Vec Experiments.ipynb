{
 "cells": [
  {
   "cell_type": "code",
   "execution_count": 27,
   "metadata": {},
   "outputs": [],
   "source": [
    "import gensim\n",
    "import numpy as np"
   ]
  },
  {
   "cell_type": "code",
   "execution_count": 16,
   "metadata": {},
   "outputs": [],
   "source": [
    "model = gensim.models.KeyedVectors.load_word2vec_format('../data/GoogleNews-vectors-negative300.bin', binary=True)  "
   ]
  },
  {
   "cell_type": "code",
   "execution_count": 40,
   "metadata": {},
   "outputs": [
    {
     "data": {
      "text/plain": [
       "[('plane', 0.9691392183303833),\n",
       " ('airplane', 0.8369841575622559),\n",
       " ('jet', 0.7356883883476257),\n",
       " ('planes', 0.7292898893356323),\n",
       " ('aircraft', 0.7277930378913879),\n",
       " ('jetliner', 0.7121304273605347),\n",
       " ('airliner', 0.7034242749214172),\n",
       " ('Cessna', 0.6709152460098267),\n",
       " ('propeller_plane', 0.6642842888832092),\n",
       " ('flight', 0.6638908386230469)]"
      ]
     },
     "execution_count": 40,
     "metadata": {},
     "output_type": "execute_result"
    }
   ],
   "source": [
    "def next_word(word_comp, word_human):\n",
    "    vec1 = np.array(model.get_vector(word_comp))\n",
    "    vec2 = np.array(model.get_vector(word_human))\n",
    "    mean_vec = (vec1 + vec2) / 4\n",
    "    model.similar_by_vector(mean_vec)"
   ]
  },
  {
   "cell_type": "code",
   "execution_count": 48,
   "metadata": {},
   "outputs": [
    {
     "data": {
      "text/plain": [
       "[('king', 0.8449392318725586),\n",
       " ('queen', 0.7300517559051514),\n",
       " ('monarch', 0.6454660892486572),\n",
       " ('princess', 0.6156251430511475),\n",
       " ('crown_prince', 0.5818676948547363),\n",
       " ('prince', 0.5777117609977722),\n",
       " ('kings', 0.5613663792610168),\n",
       " ('sultan', 0.5376776456832886),\n",
       " ('Queen_Consort', 0.5344247817993164),\n",
       " ('queens', 0.5289887189865112)]"
      ]
     },
     "execution_count": 48,
     "metadata": {},
     "output_type": "execute_result"
    }
   ],
   "source": [
    "king_vec = np.array(model.get_vector(\"king\"))\n",
    "man_vec = np.array(model.get_vector(\"man\"))\n",
    "                  \n",
    "woman_vec = np.array(model.get_vector(\"woman\"))\n",
    "\n",
    "model.similar_by_vector(king_vec - man_vec + woman_vec)"
   ]
  },
  {
   "cell_type": "code",
   "execution_count": 80,
   "metadata": {},
   "outputs": [
    {
     "data": {
      "text/plain": [
       "[('girl', 0.7794041633605957),\n",
       " ('mother', 0.7134524583816528),\n",
       " ('teenage_girl', 0.7014070153236389),\n",
       " ('toddler', 0.693071722984314),\n",
       " ('boy', 0.6930627822875977),\n",
       " ('newborn_baby', 0.651951789855957),\n",
       " ('daughter', 0.6511242389678955),\n",
       " ('infant', 0.6432238817214966),\n",
       " ('teenager', 0.6432114839553833),\n",
       " ('baby', 0.6341968774795532)]"
      ]
     },
     "execution_count": 80,
     "metadata": {},
     "output_type": "execute_result"
    }
   ],
   "source": [
    "model.most_similar(positive=[\"woman\", \"child\"])"
   ]
  },
  {
   "cell_type": "code",
   "execution_count": 62,
   "metadata": {},
   "outputs": [
    {
     "data": {
      "text/plain": [
       "[('queen', 0.5957391858100891),\n",
       " ('monarch', 0.5637063980102539),\n",
       " ('princess', 0.5488066673278809),\n",
       " ('ruler', 0.5087037086486816),\n",
       " ('prince', 0.502140998840332),\n",
       " ('crown_prince', 0.4895453453063965),\n",
       " ('sultan', 0.46843451261520386),\n",
       " ('King_Ahasuerus', 0.4548376798629761),\n",
       " ('maharaja', 0.4490196704864502),\n",
       " ('Queen_Consort', 0.43428051471710205)]"
      ]
     },
     "execution_count": 62,
     "metadata": {},
     "output_type": "execute_result"
    }
   ],
   "source": [
    "model.most_similar(positive=[\"woman\", \"king\"], negative=[\"men\"])"
   ]
  }
 ],
 "metadata": {
  "kernelspec": {
   "display_name": "embed",
   "language": "python",
   "name": "embed"
  },
  "language_info": {
   "codemirror_mode": {
    "name": "ipython",
    "version": 3
   },
   "file_extension": ".py",
   "mimetype": "text/x-python",
   "name": "python",
   "nbconvert_exporter": "python",
   "pygments_lexer": "ipython3",
   "version": "3.5.2"
  }
 },
 "nbformat": 4,
 "nbformat_minor": 2
}
