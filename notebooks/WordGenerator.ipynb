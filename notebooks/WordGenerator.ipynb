{
 "cells": [
  {
   "cell_type": "code",
   "execution_count": 208,
   "metadata": {},
   "outputs": [],
   "source": [
    "from gensim.models import KeyedVectors\n",
    "import random\n",
    "word_vectors = KeyedVectors.load_word2vec_format('../data/german.model', binary=True) \n"
   ]
  },
  {
   "cell_type": "code",
   "execution_count": null,
   "metadata": {},
   "outputs": [],
   "source": [
    "word_blacklist = [];"
   ]
  },
  {
   "cell_type": "code",
   "execution_count": 209,
   "metadata": {},
   "outputs": [],
   "source": [
    "\n",
    "\n",
    "def get_random_word():\n",
    "    return random.choice(list(word_vectors.vocab.keys()));\n",
    "    \n",
    "    \n",
    "    \n",
    "    \n",
    "def get_new_word(userWord, computerWord):\n",
    "    word_blacklist.append(userWord.lower())\n",
    "    word_blacklist.append(computerWord.lower())\n",
    "    \n",
    "    \n",
    "    try:\n",
    "        word_vectors.get_vector(userWord)\n",
    "        word_vectors.get_vector(computerWord)\n",
    "    except KeyError: \n",
    "        return null\n",
    "        \n",
    "    \n",
    "    word_list = word_vectors.most_similar(positive=[userWord, computerWord]) \n",
    "    \n",
    "    list_index = 0;\n",
    "    word_to_return = word_list[listIndex][0]\n",
    "    \n",
    "    while wordToReturn in word_blacklist:\n",
    "        list_index = listIndex + 1\n",
    "        word_to_return = word_list[listIndex][0]\n",
    "        \n",
    "    \n",
    "    \n",
    "    return word_to_return;"
   ]
  },
  {
   "cell_type": "code",
   "execution_count": 234,
   "metadata": {},
   "outputs": [
    {
     "data": {
      "text/plain": [
       "'Wohnzimmer'"
      ]
     },
     "execution_count": 234,
     "metadata": {},
     "output_type": "execute_result"
    }
   ],
   "source": [
    "get_new_word(\"Maus\", \"Haus\")"
   ]
  },
  {
   "cell_type": "code",
   "execution_count": 231,
   "metadata": {},
   "outputs": [
    {
     "data": {
      "text/plain": [
       "'villae_rusticae'"
      ]
     },
     "execution_count": 231,
     "metadata": {},
     "output_type": "execute_result"
    }
   ],
   "source": [
    "get_random_word()"
   ]
  }
 ],
 "metadata": {
  "kernelspec": {
   "display_name": "Python 3",
   "language": "python",
   "name": "python3"
  },
  "language_info": {
   "codemirror_mode": {
    "name": "ipython",
    "version": 3
   },
   "file_extension": ".py",
   "mimetype": "text/x-python",
   "name": "python",
   "nbconvert_exporter": "python",
   "pygments_lexer": "ipython3",
   "version": "3.6.4"
  }
 },
 "nbformat": 4,
 "nbformat_minor": 2
}
